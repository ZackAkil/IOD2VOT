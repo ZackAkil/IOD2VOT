{
  "nbformat": 4,
  "nbformat_minor": 0,
  "metadata": {
    "colab": {
      "provenance": [],
      "include_colab_link": true
    },
    "kernelspec": {
      "name": "python3",
      "display_name": "Python 3"
    },
    "language_info": {
      "name": "python"
    }
  },
  "cells": [
    {
      "cell_type": "markdown",
      "metadata": {
        "id": "view-in-github",
        "colab_type": "text"
      },
      "source": [
        "<a href=\"https://colab.research.google.com/github/ZackAkil/IOD2VOT/blob/main/iod2vot.ipynb\" target=\"_parent\"><img src=\"https://colab.research.google.com/assets/colab-badge.svg\" alt=\"Open In Colab\"/></a>"
      ]
    },
    {
      "cell_type": "markdown",
      "source": [
        "# Size, shape, direction, speed\n",
        "##  (y_min, x_min, y_max, x_max)"
      ],
      "metadata": {
        "id": "Xd4WmJW9EovS"
      }
    },
    {
      "cell_type": "code",
      "execution_count": 99,
      "metadata": {
        "id": "WWFRuxEW1Xnr",
        "outputId": "31413739-ce0e-4b92-9e16-6dd68f208e6d",
        "colab": {
          "base_uri": "https://localhost:8080/"
        }
      },
      "outputs": [
        {
          "output_type": "stream",
          "name": "stdout",
          "text": [
            "Overwriting iod2vot.py\n"
          ]
        }
      ],
      "source": [
        "%%writefile iod2vot.py\n",
        "\n",
        "import numpy as np\n",
        "import math\n",
        "\n",
        "\n",
        "class ObjectTrack:\n",
        "    def __init__(self, track_id, max_distance, max_missing_frames):\n",
        "        self.track_id = track_id\n",
        "        self.max_distance = max_distance\n",
        "        self.max_missing_frames = max_missing_frames\n",
        "        self.frames = []\n",
        "        self.distances = []\n",
        "        self.midpoints = []\n",
        "        self.directions = []\n",
        "        self.delta_directions = []\n",
        "        self.interpolate_missing_frames=True\n",
        "        self.interpolated_frame_count = 0\n",
        "        self.current_missed_frames_count = 0\n",
        "\n",
        "\n",
        "    @property\n",
        "    def bboxes(self):\n",
        "      output = []\n",
        "      for f in self.frames:\n",
        "        output.append(f[1].tolist())\n",
        "      return output\n",
        "\n",
        "\n",
        "    def add_frame(self, frame_num, bbox):\n",
        "\n",
        "        if bbox is None:\n",
        "          self.current_missed_frames_count += 1\n",
        "        else:\n",
        "          self.current_missed_frames_count = 0\n",
        "\n",
        "        self.frames.append((frame_num, bbox))\n",
        "\n",
        "\n",
        "    def get_missed_frames_count(self):\n",
        "\n",
        "        return self.current_missed_frames_count\n",
        "\n",
        "        # missed_frames_count = 0\n",
        "        # for _, bbox in reversed(self.frames):\n",
        "        #     if bbox is None:\n",
        "        #         missed_frames_count+=1\n",
        "        #     else:\n",
        "        #         return missed_frames_count\n",
        "\n",
        "    def interpolate_missing_boxes(self):\n",
        "\n",
        "        boxes = []\n",
        "        for _, bbox in self.frames:\n",
        "            if bbox is not None:\n",
        "                boxes.append(bbox)\n",
        "            else:\n",
        "                # create bbox with Nones for each dimention\n",
        "                boxes.append([None,None,None,None])\n",
        "                self.interpolated_frame_count += 1\n",
        "\n",
        "        interpolated = self.interpolate_nones_matrix(boxes)\n",
        "\n",
        "        for i, new_data in enumerate(interpolated):\n",
        "            self.frames[i] = (self.frames[i][0], new_data)\n",
        "\n",
        "\n",
        "    def end_tracking(self):\n",
        "        '''\n",
        "        Remove trailing Nones in track and do post processing\n",
        "        '''\n",
        "        len_frames = len(self.frames)\n",
        "        for i in range(len_frames):\n",
        "\n",
        "            if self.frames[-1][1] is None:\n",
        "                self.frames.pop()\n",
        "            else:\n",
        "                break\n",
        "\n",
        "        if self.interpolate_missing_frames:\n",
        "            self.interpolate_missing_boxes()\n",
        "\n",
        "\n",
        "        self.distances = self.calculate_all_distances(self.frames)\n",
        "\n",
        "        self.midpoints =  self.calculate_midpoints(self.frames)\n",
        "\n",
        "        self.directions = self.get_path_directions(self.midpoints)\n",
        "\n",
        "        self.delta_directions = self.get_delta_directions(self.directions)\n",
        "\n",
        "\n",
        "    def pick_best_bbox(self, bbox_list):\n",
        "        '''\n",
        "        Pick the most similare in shape box within range.\n",
        "        '''\n",
        "\n",
        "        bboxes_in_range = []\n",
        "\n",
        "        for bbox in bbox_list:\n",
        "            if self.is_in_range(bbox):\n",
        "                bboxes_in_range.append((bbox, self.get_shape_similarity_score(bbox)))\n",
        "\n",
        "        if len(bboxes_in_range):\n",
        "            return sorted(bboxes_in_range, key=lambda x: x[1])[0][0]\n",
        "        return None\n",
        "\n",
        "\n",
        "    def get_last_detected_bbox(self):\n",
        "        for _ , frame in reversed(self.frames):\n",
        "            if frame is not None:\n",
        "                return frame\n",
        "\n",
        "\n",
        "    def get_shape_similarity_score(self, bbox):\n",
        "        latest_shape = self.get_latest_shape()\n",
        "        bbox_shape = self.calculate_shape(bbox)\n",
        "        score = abs(latest_shape[0] - bbox_shape[0]) + abs(latest_shape[1] - bbox_shape[1])\n",
        "        return score\n",
        "\n",
        "    @staticmethod\n",
        "    def calculate_shape(bbox):\n",
        "        y_min, x_min, y_max, x_max  = bbox\n",
        "        width = x_max - x_min\n",
        "        height = y_max - y_min\n",
        "        return (width, height)\n",
        "\n",
        "\n",
        "    def get_latest_shape(self):\n",
        "        return self.calculate_shape(self.get_last_detected_bbox())\n",
        "\n",
        "\n",
        "    def is_same_track(self, bbox):\n",
        "\n",
        "        if not self.frames:\n",
        "            return False\n",
        "\n",
        "        _, last_bbox = self.get_last_detected_position()\n",
        "        distance = self.calculate_distance(bbox, last_bbox)\n",
        "        return distance <= self.max_distance\n",
        "\n",
        "\n",
        "    def is_in_range(self, bbox):\n",
        "\n",
        "        # if there are no frames\n",
        "        if not self.frames:\n",
        "            return False\n",
        "\n",
        "        last_bbox = self.get_last_detected_bbox()\n",
        "        distance = self.calculate_distance(bbox, last_bbox)\n",
        "\n",
        "        # increase distance to compensate for missed frames\n",
        "        # TODO this is abit simple, could be looking at extrapolated distance\n",
        "        distance_boundary = self.max_distance + (self.current_missed_frames_count *  self.max_distance)\n",
        "\n",
        "        return distance <= distance_boundary\n",
        "\n",
        "\n",
        "    @staticmethod\n",
        "    def calculate_all_distances(frames):\n",
        "\n",
        "        distances = []\n",
        "        for i in range(len(frames)-1):\n",
        "            distances.append( ObjectTrack.calculate_distance(frames[i][1],\n",
        "                                                             frames[i+1][1]) )\n",
        "        return distances\n",
        "\n",
        "    @staticmethod\n",
        "    def calculate_distance(bbox1, bbox2):\n",
        "        y1_min, x1_min, y1_max, x1_max = bbox1\n",
        "        y2_min, x2_min, y2_max, x2_max = bbox2\n",
        "        center1 = np.array([(y1_min + y1_max) / 2, (x1_min + x1_max) / 2])\n",
        "        center2 = np.array([(y2_min + y2_max) / 2, (x2_min + x2_max) / 2])\n",
        "        distance = np.linalg.norm(center1 - center2)\n",
        "        return distance\n",
        "\n",
        "\n",
        "    @staticmethod\n",
        "    def calculate_midpoints(bbox_list):\n",
        "        midpoints = []\n",
        "        for seconds, bbox in bbox_list:\n",
        "            ymin, xmin, ymax, xmax = bbox\n",
        "            midpoint_x = (xmin + xmax) / 2\n",
        "            midpoint_y = (ymin + ymax) / 2\n",
        "            midpoint = (midpoint_x, midpoint_y)\n",
        "            midpoints.append(midpoint)\n",
        "        return midpoints\n",
        "\n",
        "\n",
        "    @staticmethod\n",
        "    def interpolate_nones_matrix(matrix):\n",
        "        # Convert the matrix to a NumPy array\n",
        "        arr = np.array(matrix, dtype=float)\n",
        "\n",
        "        # Iterate through each column\n",
        "        for col in range(arr.shape[1]):\n",
        "            # Find indices of None values in the current column\n",
        "            none_indices = np.where(np.isnan(arr[:, col]))[0]\n",
        "\n",
        "            # Find indices of non-None values in the current column\n",
        "            non_none_indices = np.where(~np.isnan(arr[:, col]))[0]\n",
        "\n",
        "            # do linear interpolation\n",
        "            arr[none_indices, col] = np.interp(none_indices, non_none_indices, arr[non_none_indices, col])\n",
        "        return arr\n",
        "\n",
        "\n",
        "    @staticmethod\n",
        "    def get_path_directions(path):\n",
        "\n",
        "        x = np.array([point[0] for point in path])\n",
        "        y = np.array([point[1] for point in path])\n",
        "\n",
        "        delta_x = x[1:] - x[:-1]\n",
        "        delta_y = y[1:] - y[:-1]\n",
        "\n",
        "        directions = np.arctan2(delta_y, delta_x)\n",
        "\n",
        "        return directions\n",
        "\n",
        "\n",
        "    @staticmethod\n",
        "    def get_delta_directions(directions):\n",
        "        delta_directions = []\n",
        "        for i in range(len(directions)-1):\n",
        "          delta = ObjectTrack.calculate_radian_difference(directions[i], directions[i+1])\n",
        "          delta_directions.append(delta)\n",
        "        # delta_direction = np.abs(directions[1:]-directions[:-1])\n",
        "        return delta_directions\n",
        "\n",
        "\n",
        "    @staticmethod\n",
        "    def calculate_radian_difference(direction1, direction2):\n",
        "        direction1 = direction1 % (2 * math.pi)\n",
        "        direction2 = direction2 % (2 * math.pi)\n",
        "        absolute_difference = abs(direction1 - direction2)\n",
        "        angular_difference = min(absolute_difference, 2 * math.pi - absolute_difference)\n",
        "\n",
        "        return angular_difference\n",
        "\n",
        "\n",
        "    def max_speed(self):\n",
        "        return max(self.distances)\n",
        "\n",
        "\n",
        "class ObjectTracker:\n",
        "    def __init__(self, max_distance=1., max_missing_frames=0):\n",
        "        self.max_distance = max_distance\n",
        "        self.max_missing_frames = max_missing_frames\n",
        "        self.tracks = []\n",
        "        self.next_track_id = 1\n",
        "\n",
        "\n",
        "    def get_longest_track(self):\n",
        "        sorted_tracks = sorted(self.tracks, key=lambda track: len(track.frames))\n",
        "        return sorted_tracks[-1]\n",
        "\n",
        "\n",
        "    @staticmethod\n",
        "    def copy_bbox_array(bbox_array):\n",
        "\n",
        "      # handle numpy list different from primative\n",
        "      if type(bbox_array) in {tuple, list}:\n",
        "        # primative\n",
        "        return bbox_array[:]\n",
        "      else:\n",
        "        # numpy\n",
        "        return bbox_array.tolist().copy()\n",
        "\n",
        "\n",
        "    def analyse(self, bbox_lists):\n",
        "\n",
        "        print(type(bbox_lists), type(bbox_lists[0]), type(bbox_lists[0][0]))\n",
        "\n",
        "        assert(type(bbox_lists) == list)\n",
        "        assert(type(bbox_lists[0]) in [list, tuple])\n",
        "        assert(type(bbox_lists[0][0]) in [list, tuple])\n",
        "        assert(type(bbox_lists[0][0][0]) in [int, float])\n",
        "\n",
        "        print(f'Running APSX object tracker on {len(bbox_lists)} frames')\n",
        "\n",
        "        active_tracks = []\n",
        "\n",
        "        for frame_num, bboxes in enumerate(bbox_lists):\n",
        "\n",
        "            frame_bboxes = self.copy_bbox_array(bboxes)\n",
        "\n",
        "            # longest track get first dibs TODO future do match making\n",
        "            sorted_tracks = sorted(active_tracks,\n",
        "                                   key=lambda obj: len(obj.frames),\n",
        "                                   reverse=True)\n",
        "\n",
        "            for track in sorted_tracks:\n",
        "                # for each obeject track, find best match bbox in frame\n",
        "                best_box = track.pick_best_bbox(frame_bboxes)\n",
        "                # add box even if its None\n",
        "                track.add_frame(frame_num, best_box)\n",
        "\n",
        "                if best_box is not None:\n",
        "                    # print('best box ', best_box)\n",
        "                    frame_bboxes.remove(best_box)\n",
        "                else:\n",
        "                    if track.get_missed_frames_count() > self.max_missing_frames:\n",
        "                        track.end_tracking()\n",
        "                        active_tracks.remove(track)\n",
        "\n",
        "            # start tracking any remaining boxes\n",
        "            for remaining_bbox in frame_bboxes:\n",
        "                new_track = ObjectTrack(self.next_track_id, self.max_distance, self.max_missing_frames)\n",
        "                new_track.add_frame(frame_num, remaining_bbox)\n",
        "                self.next_track_id += 1\n",
        "                self.tracks.append(new_track)\n",
        "                active_tracks.append(new_track)\n",
        "\n",
        "        # finish tracking all objects when all frames analysed\n",
        "        for active_track in active_tracks:\n",
        "            active_track.end_tracking()\n",
        "\n",
        "        for a_t in active_tracks:\n",
        "            print(a_t.frames[0])\n",
        "\n",
        "\n",
        "    def get_tracks(self):\n",
        "        return self.tracks\n"
      ]
    },
    {
      "cell_type": "code",
      "source": [
        "%%writefile test_iod2vot.py\n",
        "import pytest\n",
        "\n",
        "from iod2vot import ObjectTracker, ObjectTrack\n",
        "\n",
        "@pytest.fixture\n",
        "def bounding_boxes_with_gaps():\n",
        "  return [\n",
        "  [[0.20125, 0.436, 0.305, 0.556]],\n",
        "  [[0.245, 0.27, 0.34875, 0.396]],\n",
        "  [],\n",
        "  [[0.53125, 0.154, 0.6425, 0.304]],\n",
        "  [[0.6875, 0.228, 0.7775, 0.388]],\n",
        "  [[0.79375, 0.432, 0.9, 0.586]],\n",
        "  [[0.78875, 0.672, 0.90125, 0.842]],\n",
        "  [],\n",
        "  [[0.49625, 0.778, 0.63, 0.93]],\n",
        "  [[0.3325, 0.778, 0.46125, 0.922]],\n",
        "  [[0.18375, 0.73, 0.29125, 0.862]],\n",
        "  [[0.13, 0.552, 0.2275, 0.646]],\n",
        "  [],\n",
        "  [[0.1275, 0.258, 0.21625, 0.33]],\n",
        "  [[0.2, 0.162, 0.30875, 0.214]],\n",
        "  [[0.3525, 0.084, 0.42625, 0.164]],\n",
        "  ]\n",
        "\n",
        "@pytest.fixture\n",
        "def bounding_boxes_square_path():\n",
        "  return [\n",
        "  [[0., 0., 0.1, 0.1]],\n",
        "  [[0., 1., 0.1, .9]],\n",
        "  [[1., 1., .9, .9]],\n",
        "  [[1., 0., .9, 0.1]],\n",
        "  [[0., 0., 0.1, 0.1]],\n",
        "  ]\n",
        "\n",
        "\n",
        "def test_different_tracks_when_gaps_max_missing_frames_is_0(bounding_boxes_with_gaps):\n",
        "\n",
        "    tracker = ObjectTracker(max_distance=0.5, max_missing_frames=0)\n",
        "    tracker.analyse(bounding_boxes_with_gaps)\n",
        "\n",
        "    assert len(tracker.tracks) == 4\n",
        "\n",
        "\n",
        "def test_single_track_when_gaps_max_missing_frames_is_1(bounding_boxes_with_gaps):\n",
        "\n",
        "    tracker = ObjectTracker(max_distance=0.5, max_missing_frames=1)\n",
        "    tracker.analyse(bounding_boxes_with_gaps)\n",
        "\n",
        "    assert len(tracker.tracks) == 1\n",
        "\n",
        "\n",
        "def test_single_track_len_is_equal_to_bbox_data(bounding_boxes_with_gaps):\n",
        "\n",
        "    tracker = ObjectTracker(max_distance=0.5, max_missing_frames=1)\n",
        "    tracker.analyse(bounding_boxes_with_gaps)\n",
        "\n",
        "    assert len(tracker.get_longest_track().frames) == len(bounding_boxes_with_gaps)\n",
        "\n",
        "\n",
        "def test_single_square_path_delta_directions(bounding_boxes_square_path):\n",
        "\n",
        "    tracker = ObjectTracker(max_distance=1, max_missing_frames=0)\n",
        "    tracker.analyse(bounding_boxes_square_path)\n",
        "    track = tracker.get_longest_track()\n",
        "    rounded_deltas = [round(d,4) for d in track.delta_directions]\n",
        "    assert len(rounded_deltas) == 3\n",
        "    assert rounded_deltas.count(1.5708) == 3\n",
        "\n",
        "\n",
        "def test_single_square_path_distances(bounding_boxes_square_path):\n",
        "\n",
        "    tracker = ObjectTracker(max_distance=1, max_missing_frames=0)\n",
        "    tracker.analyse(bounding_boxes_square_path)\n",
        "    track = tracker.get_longest_track()\n",
        "    rounded_distances = [round(d,2) for d in track.distances]\n",
        "\n",
        "    assert len(track.distances) == 4\n",
        "    assert rounded_distances.count(0.9) == 4\n",
        "\n",
        "\n",
        "\n",
        "def test_calculate_shape():\n",
        "    bbox = (10, 20, 30, 40)\n",
        "    width, height = ObjectTrack.calculate_shape(bbox)\n",
        "    assert width == 20\n",
        "    assert height == 20\n",
        "\n",
        "def test_calculate_shape_with_negative_values():\n",
        "    bbox = (-30, -40, -10, -20)\n",
        "    width, height = ObjectTrack.calculate_shape(bbox)\n",
        "    assert width == 20\n",
        "    assert height == 20\n",
        "\n",
        "def test_calculate_shape_with_zero_values():\n",
        "    bbox = (0, 0, 0, 0)\n",
        "    width, height = ObjectTrack.calculate_shape(bbox)\n",
        "    assert width == 0\n",
        "    assert height == 0\n",
        "\n",
        "\n",
        "def test_calculate_midpoints():\n",
        "    bbox_list = [\n",
        "        (0,(10, 20, 30, 40)),\n",
        "        (0,(50, 60, 70, 80)),\n",
        "    ]\n",
        "    midpoints = ObjectTrack.calculate_midpoints(bbox_list)\n",
        "    assert midpoints == [(30., 20.), (70., 60.)]\n",
        "\n",
        "def test_calculate_midpoints_with_negative_values():\n",
        "    bbox_list = [\n",
        "        (0,(-30, -60, -20, -40)),\n",
        "        (0,(-80, -90, -70, -80)),\n",
        "    ]\n",
        "    midpoints = ObjectTrack.calculate_midpoints(bbox_list)\n",
        "    assert midpoints == [(-50., -25.), (-85., -75.)]\n",
        "\n",
        "def test_calculate_midpoints_with_zero_values():\n",
        "    bbox_list = [\n",
        "        (0,(0, 0, 0, 0)),\n",
        "        (0,(0, 0, 0, 0)),\n",
        "    ]\n",
        "    midpoints = ObjectTrack.calculate_midpoints(bbox_list)\n",
        "    assert midpoints == [(0., 0.), (0., 0.)]"
      ],
      "metadata": {
        "id": "KKLISoQGhb_F",
        "outputId": "e9106e48-9016-4ab5-d857-58e432899a96",
        "colab": {
          "base_uri": "https://localhost:8080/"
        }
      },
      "execution_count": 100,
      "outputs": [
        {
          "output_type": "stream",
          "name": "stdout",
          "text": [
            "Overwriting test_iod2vot.py\n"
          ]
        }
      ]
    },
    {
      "cell_type": "code",
      "source": [
        "!pytest"
      ],
      "metadata": {
        "id": "jk6NwhrCiZUw",
        "outputId": "0c7dbf1a-983a-48e1-9087-e6024bcbafdd",
        "colab": {
          "base_uri": "https://localhost:8080/"
        }
      },
      "execution_count": 101,
      "outputs": [
        {
          "output_type": "stream",
          "name": "stdout",
          "text": [
            "\u001b[1m======================================= test session starts ========================================\u001b[0m\n",
            "platform linux -- Python 3.10.12, pytest-7.4.2, pluggy-1.3.0\n",
            "rootdir: /content\n",
            "plugins: anyio-3.7.1\n",
            "\u001b[1mcollecting ... \u001b[0m\u001b[1m\rcollected 11 items                                                                                 \u001b[0m\n",
            "\n",
            "test_iod2vot.py \u001b[32m.\u001b[0m\u001b[32m.\u001b[0m\u001b[32m.\u001b[0m\u001b[32m.\u001b[0m\u001b[32m.\u001b[0m\u001b[32m.\u001b[0m\u001b[32m.\u001b[0m\u001b[32m.\u001b[0m\u001b[32m.\u001b[0m\u001b[32m.\u001b[0m\u001b[32m.\u001b[0m\u001b[32m                                                                  [100%]\u001b[0m\n",
            "\n",
            "\u001b[32m======================================== \u001b[32m\u001b[1m11 passed\u001b[0m\u001b[32m in 0.13s\u001b[0m\u001b[32m ========================================\u001b[0m\n"
          ]
        }
      ]
    },
    {
      "cell_type": "code",
      "source": [
        "\n",
        "import math\n",
        "import matplotlib.pyplot as plt\n",
        "\n",
        "\n",
        "\n",
        "def bbox_to_rect(bbox):\n",
        "    y_min, x_min, y_max, x_max  = bbox\n",
        "    width = x_max - x_min\n",
        "    height = y_max - y_min\n",
        "    return (x_min, y_min, width, height)\n",
        "\n",
        "def get_cmap(n, name='hsv'):\n",
        "    '''Returns a function that maps each index in 0, 1, ..., n-1 to a distinct\n",
        "    RGB color; the keyword argument name must be a standard mpl colormap name.'''\n",
        "    return plt.cm.get_cmap(name, n)\n",
        "\n",
        "\n",
        "\n",
        "def generate_line_coordinates(center, direction, length):\n",
        "    x, y = center\n",
        "    x1 = x + length * math.cos(direction)\n",
        "    y1 = y + length * math.sin(direction)\n",
        "    x2 = x - length * math.cos(direction)\n",
        "    y2 = y - length * math.sin(direction)\n",
        "    return x1, y1, x2, y2\n",
        "\n",
        "\n",
        "def draw_arrow(ax, center, direction, length=0.1):\n",
        "\n",
        "  x1, y1, x2, y2 = generate_line_coordinates(center, direction, length)\n",
        "\n",
        "  ax.annotate(\"\", xy=(x1, y1), xytext=(x2, y2),\n",
        "    arrowprops=dict(arrowstyle='simple'))\n",
        "\n",
        "def draw_tracked_object(ax, tracked_object, colour_map, colour_index):\n",
        "\n",
        "  bboxes = tracked_object.bboxes\n",
        "  midpoints = tracked_object.midpoints\n",
        "  xs = [m[0] for m in midpoints]\n",
        "  ys = [m[1] for m in midpoints]\n",
        "\n",
        "\n",
        "  plt.plot(xs, ys, marker=\"x\")\n",
        "\n",
        "\n",
        "  for i, (box, center) in enumerate( zip(bboxes, midpoints)):\n",
        "\n",
        "    plt.text(center[0], center[1], f'{i}', fontsize=12)\n",
        "\n",
        "    x_min, y_min, box_width, box_height = bbox_to_rect(box)\n",
        "    rect = plt.Rectangle((x_min, y_min), box_width, box_height, edgecolor=colour_map(colour_index),\n",
        "                          linewidth=2, fill=False, zorder=-5)\n",
        "    ax.add_patch(rect)\n",
        "\n",
        "\n",
        "  directions = tracked_object.directions\n",
        "\n",
        "  for i in range(len(directions)):\n",
        "    draw_arrow(ax, midpoints[i+1], directions[i], length=0.1)\n",
        "\n",
        "\n",
        "\n",
        "\n",
        "  distances = tracked_object.distances\n",
        "\n",
        "  for i in range(len(midpoints)-1):\n",
        "\n",
        "    mid_edge_x = (midpoints[i][0] + midpoints[i+1][0]) /2\n",
        "    mid_edge_y = (midpoints[i][1] + midpoints[i+1][1]) /2\n",
        "\n",
        "    plt.text(mid_edge_x, mid_edge_y, f'{round(distances[i],2)}', fontsize=12)\n",
        "\n",
        "\n",
        "\n",
        "def plot_object_tracker(object_tracker):\n",
        "\n",
        "\n",
        "    fig, ax = plt.subplots(figsize=(10, 10))\n",
        "\n",
        "    ax.set_xlim(0, 1)\n",
        "    ax.set_ylim(1, 0)\n",
        "    ax.set_aspect('equal')\n",
        "\n",
        "    plt.xticks(np.arange(0, 1, 0.1))\n",
        "\n",
        "    tracked_objects = object_tracker.get_tracks()\n",
        "\n",
        "    colour_map = plt.cm.get_cmap('cool', len(tracked_objects))\n",
        "\n",
        "    for i, object_track in enumerate(tracked_objects):\n",
        "      print('ploting object track ', i)\n",
        "      draw_tracked_object(ax, object_track, colour_map, i)\n",
        "\n",
        "    plt.show()\n",
        "\n",
        "\n",
        "def plot_single_tracked_object(tracked_object):\n",
        "\n",
        "\n",
        "    fig, ax = plt.subplots(figsize=(10, 10))\n",
        "\n",
        "    ax.set_xlim(0, 1)\n",
        "    ax.set_ylim(1, 0)\n",
        "    ax.set_aspect('equal')\n",
        "\n",
        "    plt.xticks(np.arange(0, 1, 0.1))\n",
        "\n",
        "\n",
        "    colour_map = plt.cm.get_cmap('cool', 5)\n",
        "    colour_index = 0\n",
        "\n",
        "    draw_tracked_object(ax, tracked_object, colour_map, colour_index)\n",
        "\n",
        "    plt.show()\n",
        "\n",
        "def plot_raw_boxes(bboxes):\n",
        "\n",
        "    fig, ax = plt.subplots()\n",
        "\n",
        "    ax.set_xlim(0, 1)\n",
        "    ax.set_ylim(1, 0)\n",
        "\n",
        "    colour_index = 0\n",
        "\n",
        "    colour_map = plt.cm.get_cmap('cool', len(bboxes))\n",
        "\n",
        "    for box in bboxes:\n",
        "\n",
        "        x_min, y_min, box_width, box_height = bbox_to_rect(box)\n",
        "        rect = plt.Rectangle((x_min, y_min), box_width, box_height, edgecolor=colour_map(colour_index),\n",
        "                              linewidth=2, fill=False, zorder=-5)\n",
        "        ax.add_patch(rect)\n",
        "        colour_index += 1\n",
        "\n",
        "    plt.show()\n",
        "\n",
        "\n",
        "def plot_raw_boxes_frames(bbox_frames):\n",
        "\n",
        "    fig, ax = plt.subplots()\n",
        "    ax.set_xlim(0, 1)\n",
        "    ax.set_ylim(1, 0)\n",
        "\n",
        "    colour_index = 0\n",
        "\n",
        "    colour_map = plt.cm.get_cmap('cool', len(bbox_frames))\n",
        "\n",
        "    for frame in bbox_frames:\n",
        "      for box in frame:\n",
        "\n",
        "        x_min, y_min, box_width, box_height = bbox_to_rect(box)\n",
        "        rect = plt.Rectangle((x_min, y_min), box_width, box_height, edgecolor=colour_map(colour_index),\n",
        "                              linewidth=2, fill=False, zorder=-5)\n",
        "        ax.add_patch(rect)\n",
        "        colour_index += 1\n",
        "\n",
        "    plt.show()\n",
        "\n",
        "def plot_boxes(boxes):\n",
        "\n",
        "    fig, ax = plt.subplots()\n",
        "\n",
        "    ax.set_xlim(0, 1)\n",
        "    ax.set_ylim(1, 0)\n",
        "\n",
        "    for box in boxes:\n",
        "      x_min, y_min, box_width, box_height = bbox_to_rect(box)\n",
        "      rect = plt.Rectangle((x_min, y_min), box_width, box_height,\n",
        "                             linewidth=2, fill=False, zorder=-5)\n",
        "      ax.add_patch(rect)\n",
        "\n",
        "    plt.show()"
      ],
      "metadata": {
        "id": "JZuvo--04F75"
      },
      "execution_count": 53,
      "outputs": []
    },
    {
      "cell_type": "code",
      "source": [
        "bounding_boxes = [\n",
        "    [(0.5013360603144912, 0.8714794320965453, 0.6286094024923696, 1)],\n",
        "    [(0.7544715458012409, 0.5571466069380683, 0.8840926812114673, 0.8005262250702578)],\n",
        "    [(0.34413487921781627, 0.731357723331182, 0.6382480040300957, 0.965484602074228)],\n",
        "    [(0.5825253011290187, 0.8564959503081476, 0.8181032092483568, 1)],\n",
        "    [(0.07057531593549371, 0.6097611310671037, 0.2368949986158088, 0.7272766004870137)],\n",
        "    [(0.66357125778616, 0.10017725614227524, 0.8129001323574123, 0.23605210117421177)],\n",
        "    [(0.5095725977368887, 0.3293090008728754, 0.8088075361731065, 0.5645011728147831)],\n",
        "    [(0.09291892185372974, 0.9607660684490613, 0.3775437754694031, 1)],\n",
        "    [(0.5264466778011598, 0.8301202286194853, 0.6485654229280238, 1)],\n",
        "    [(0.519523476518735, 0.34194683219067157, 0.6221204002473831, 0.4558444348437807)],\n",
        "]\n",
        "\n",
        "\n",
        "bounding_boxes = [\n",
        "    [(0.4, 0.3, 0.6, 0.7)],\n",
        "    [(0.35, 0.25, 0.65, 0.75)],\n",
        "    [(0.3, 0.2, 0.7, 0.8)],\n",
        "    [(0.25, 0.15, 0.75, 0.85)],\n",
        "    [(0.2, 0.1, 0.8, 0.9)],\n",
        "    [(0.25, 0.15, 0.75, 0.85)],\n",
        "   [(0.3, 0.2, 0.7, 0.8)],\n",
        "    [(0.35, 0.25, 0.65, 0.75)],\n",
        "    [(0.4, 0.3, 0.6, 0.7)]\n",
        "]\n",
        "\n",
        "\n",
        "\n",
        "bounding_boxes = [\n",
        "[[0.20125, 0.436, 0.305, 0.556]],\n",
        "[[0.245, 0.27, 0.34875, 0.396]],\n",
        "[[0.3575, 0.182, 0.48, 0.332]],\n",
        "[[0.53125, 0.154, 0.6425, 0.304]],\n",
        "[[0.6875, 0.228, 0.7775, 0.388]],\n",
        "[[0.79375, 0.432, 0.9, 0.586]],\n",
        "[[0.78875, 0.672, 0.90125, 0.842]],\n",
        "[[0.65875, 0.75, 0.7475, 0.894]],\n",
        "[[0.49625, 0.778, 0.63, 0.93]],\n",
        "[[0.3325, 0.778, 0.46125, 0.922]],\n",
        "[[0.18375, 0.73, 0.29125, 0.862]],\n",
        "[[0.13, 0.552, 0.2275, 0.646]],\n",
        "[[0.0925, 0.406, 0.185, 0.498]],\n",
        "[[0.1275, 0.258, 0.21625, 0.33]],\n",
        "[[0.2, 0.162, 0.30875, 0.214]],\n",
        "[[0.3525, 0.084, 0.42625, 0.164]],\n",
        "]\n",
        "\n",
        "\n",
        "bounding_boxes = [\n",
        "[[0.20125, 0.436, 0.305, 0.556]],\n",
        "[[0.245, 0.27, 0.34875, 0.396]],\n",
        "[],\n",
        "[[0.53125, 0.154, 0.6425, 0.304]],\n",
        "[[0.6875, 0.228, 0.7775, 0.388]],\n",
        "[[0.79375, 0.432, 0.9, 0.586]],\n",
        "[[0.78875, 0.672, 0.90125, 0.842]],\n",
        "[],\n",
        "[[0.49625, 0.778, 0.63, 0.93]],\n",
        "[[0.3325, 0.778, 0.46125, 0.922]],\n",
        "[[0.18375, 0.73, 0.29125, 0.862]],\n",
        "[[0.13, 0.552, 0.2275, 0.646]],\n",
        "[],\n",
        "[[0.1275, 0.258, 0.21625, 0.33]],\n",
        "[[0.2, 0.162, 0.30875, 0.214]],\n",
        "[[0.3525, 0.084, 0.42625, 0.164]],\n",
        "]\n",
        "\n",
        "\n",
        "bboxes_square = [\n",
        "  [[0., 0., 0.1, 0.1]],\n",
        "  [[0., 1., 0.1, .9]],\n",
        "  [[1., 1., .9, .9]],\n",
        "  [[1., 0., .9, 0.1]],\n",
        "  [[0., 0., 0.1, 0.1]],\n",
        "  ]"
      ],
      "metadata": {
        "id": "W6aWW-gK1v0p"
      },
      "execution_count": 63,
      "outputs": []
    },
    {
      "cell_type": "code",
      "source": [
        "tracker = ObjectTracker(max_distance=1, max_missing_frames=0)\n",
        "tracker.analyse(bboxes_square)"
      ],
      "metadata": {
        "colab": {
          "base_uri": "https://localhost:8080/"
        },
        "id": "vPd4r2Vl4wHR",
        "outputId": "6c70224f-0efb-4708-a3ee-f17ecc5830ef"
      },
      "execution_count": 80,
      "outputs": [
        {
          "output_type": "stream",
          "name": "stdout",
          "text": [
            "<class 'list'> <class 'list'> <class 'list'>\n",
            "Running APSX object tracker on 5 frames\n",
            "(0, array([0. , 0. , 0.1, 0.1]))\n"
          ]
        }
      ]
    },
    {
      "cell_type": "code",
      "source": [
        "t = tracker.get_longest_track()\n",
        "round(t.delta_directions[0],4)"
      ],
      "metadata": {
        "id": "VZiQFmovpqrJ",
        "outputId": "53eb8673-d325-475e-cf90-d29b761f3b9c",
        "colab": {
          "base_uri": "https://localhost:8080/"
        }
      },
      "execution_count": 85,
      "outputs": [
        {
          "output_type": "execute_result",
          "data": {
            "text/plain": [
              "1.5708"
            ]
          },
          "metadata": {},
          "execution_count": 85
        }
      ]
    },
    {
      "cell_type": "code",
      "source": [
        "plot_object_tracker(tracker)"
      ],
      "metadata": {
        "colab": {
          "base_uri": "https://localhost:8080/",
          "height": 908
        },
        "id": "f2JHcSAyrrq0",
        "outputId": "94e07ae2-b42b-4ab3-ea66-958b14561944"
      },
      "execution_count": 82,
      "outputs": [
        {
          "output_type": "stream",
          "name": "stderr",
          "text": [
            "<ipython-input-53-4044329a6d3f>:90: MatplotlibDeprecationWarning: The get_cmap function was deprecated in Matplotlib 3.7 and will be removed two minor releases later. Use ``matplotlib.colormaps[name]`` or ``matplotlib.colormaps.get_cmap(obj)`` instead.\n",
            "  colour_map = plt.cm.get_cmap('cool', len(tracked_objects))\n"
          ]
        },
        {
          "output_type": "stream",
          "name": "stdout",
          "text": [
            "ploting object track  0\n"
          ]
        },
        {
          "output_type": "display_data",
          "data": {
            "text/plain": [
              "<Figure size 1000x1000 with 1 Axes>"
            ],
            "image/png": "[encoded data removed]"
          },
          "metadata": {}
        }
      ]
    },
    {
      "cell_type": "code",
      "source": [
        "longest_track = tracker.get_longest_track()\n",
        "longest_track.frames"
      ],
      "metadata": {
        "colab": {
          "base_uri": "https://localhost:8080/"
        },
        "id": "jn5LnDRK8aIF",
        "outputId": "5398a945-eda4-49ba-e484-7e08172d1ab6"
      },
      "execution_count": 69,
      "outputs": [
        {
          "output_type": "execute_result",
          "data": {
            "text/plain": [
              "[(0, array([0. , 0. , 0.1, 0.1])),\n",
              " (1, array([0. , 1. , 0.1, 0.9])),\n",
              " (2, array([1. , 1. , 0.9, 0.9])),\n",
              " (3, array([1. , 0. , 0.9, 0.1])),\n",
              " (4, array([0. , 0. , 0.1, 0.1]))]"
            ]
          },
          "metadata": {},
          "execution_count": 69
        }
      ]
    },
    {
      "cell_type": "code",
      "source": [
        "longest_track.directions"
      ],
      "metadata": {
        "colab": {
          "base_uri": "https://localhost:8080/"
        },
        "id": "qWM-gHVwJzyR",
        "outputId": "5c4d62c3-2108-450d-9be4-39cafdef7ddb"
      },
      "execution_count": 70,
      "outputs": [
        {
          "output_type": "execute_result",
          "data": {
            "text/plain": [
              "array([ 0.        ,  1.57079633,  3.14159265, -1.57079633])"
            ]
          },
          "metadata": {},
          "execution_count": 70
        }
      ]
    },
    {
      "cell_type": "code",
      "source": [
        "longest_track.distances"
      ],
      "metadata": {
        "colab": {
          "base_uri": "https://localhost:8080/"
        },
        "id": "rGMEgUGUw74M",
        "outputId": "a8e0beb1-6b59-482c-9753-e3c5b460ceda"
      },
      "execution_count": 71,
      "outputs": [
        {
          "output_type": "execute_result",
          "data": {
            "text/plain": [
              "[0.8999999999999999,\n",
              " 0.8999999999999999,\n",
              " 0.8999999999999999,\n",
              " 0.8999999999999999]"
            ]
          },
          "metadata": {},
          "execution_count": 71
        }
      ]
    },
    {
      "cell_type": "code",
      "source": [
        "directions = longest_track.directions\n",
        "delta_directions = longest_track.delta_directions"
      ],
      "metadata": {
        "id": "ElgqudLFqo4J"
      },
      "execution_count": 72,
      "outputs": []
    },
    {
      "cell_type": "code",
      "source": [
        "len(longest_track.midpoints), len(longest_track.directions)"
      ],
      "metadata": {
        "colab": {
          "base_uri": "https://localhost:8080/"
        },
        "id": "xKfq86SfU0jK",
        "outputId": "a92c675b-13ad-40bd-c00c-2ff8e72727ab"
      },
      "execution_count": 73,
      "outputs": [
        {
          "output_type": "execute_result",
          "data": {
            "text/plain": [
              "(5, 4)"
            ]
          },
          "metadata": {},
          "execution_count": 73
        }
      ]
    },
    {
      "cell_type": "code",
      "source": [
        "import matplotlib.pyplot as plt"
      ],
      "metadata": {
        "id": "UOk_TX-L3_ML"
      },
      "execution_count": 74,
      "outputs": []
    },
    {
      "cell_type": "code",
      "source": [
        "plt.plot(directions, marker='x')\n",
        "for i, d in enumerate(directions):\n",
        "  plt.text(i, d, f'#{i+1} {round(d)}')"
      ],
      "metadata": {
        "colab": {
          "base_uri": "https://localhost:8080/",
          "height": 430
        },
        "id": "Vz2omuEqT-Lc",
        "outputId": "baad97ea-7b76-43e2-a82c-3f89963f8a4f"
      },
      "execution_count": 75,
      "outputs": [
        {
          "output_type": "display_data",
          "data": {
            "text/plain": [
              "<Figure size 640x480 with 1 Axes>"
            ],
            "image/png": "[encoded data removed]"
          },
          "metadata": {}
        }
      ]
    },
    {
      "cell_type": "code",
      "source": [
        "\n",
        "plt.plot(delta_directions, marker='x',c='r')\n",
        "plt.ylim(0,6)\n",
        "for i, d in enumerate(delta_directions):\n",
        "  plt.text(i, d, f'#{i+2}: {round(d,2)}')\n",
        "\n",
        "plt.show()"
      ],
      "metadata": {
        "colab": {
          "base_uri": "https://localhost:8080/",
          "height": 435
        },
        "id": "_CHHSJpqqty4",
        "outputId": "5087c15a-a514-49ae-edf8-efe7a2ca1ac6"
      },
      "execution_count": 76,
      "outputs": [
        {
          "output_type": "display_data",
          "data": {
            "text/plain": [
              "<Figure size 640x480 with 1 Axes>"
            ],
            "image/png": "[encoded data removed]"
          },
          "metadata": {}
        }
      ]
    },
    {
      "cell_type": "code",
      "source": [
        "plot_single_tracked_object(longest_track)"
      ],
      "metadata": {
        "colab": {
          "base_uri": "https://localhost:8080/",
          "height": 891
        },
        "id": "HjFgCkTkD4Op",
        "outputId": "a5b08c18-a275-481a-f75b-0d41c74d9d46"
      },
      "execution_count": 77,
      "outputs": [
        {
          "output_type": "stream",
          "name": "stderr",
          "text": [
            "<ipython-input-53-4044329a6d3f>:111: MatplotlibDeprecationWarning: The get_cmap function was deprecated in Matplotlib 3.7 and will be removed two minor releases later. Use ``matplotlib.colormaps[name]`` or ``matplotlib.colormaps.get_cmap(obj)`` instead.\n",
            "  colour_map = plt.cm.get_cmap('cool', 5)\n"
          ]
        },
        {
          "output_type": "display_data",
          "data": {
            "text/plain": [
              "<Figure size 1000x1000 with 1 Axes>"
            ],
            "image/png": "[encoded data removed]"
          },
          "metadata": {}
        }
      ]
    },
    {
      "cell_type": "code",
      "source": [
        "plot_raw_boxes(longest_track.bboxes)"
      ],
      "metadata": {
        "colab": {
          "base_uri": "https://localhost:8080/",
          "height": 490
        },
        "id": "Hj2_2AkGAyOF",
        "outputId": "a2f36d80-d3d2-49f4-c0d3-9d887aa1c200"
      },
      "execution_count": 78,
      "outputs": [
        {
          "output_type": "stream",
          "name": "stderr",
          "text": [
            "<ipython-input-53-4044329a6d3f>:127: MatplotlibDeprecationWarning: The get_cmap function was deprecated in Matplotlib 3.7 and will be removed two minor releases later. Use ``matplotlib.colormaps[name]`` or ``matplotlib.colormaps.get_cmap(obj)`` instead.\n",
            "  colour_map = plt.cm.get_cmap('cool', len(bboxes))\n"
          ]
        },
        {
          "output_type": "display_data",
          "data": {
            "text/plain": [
              "<Figure size 640x480 with 1 Axes>"
            ],
            "image/png": "[encoded data removed]"
          },
          "metadata": {}
        }
      ]
    },
    {
      "cell_type": "code",
      "source": [
        "plot_raw_boxes_frames(bounding_boxes)"
      ],
      "metadata": {
        "colab": {
          "base_uri": "https://localhost:8080/",
          "height": 490
        },
        "id": "dHUk665B4JpH",
        "outputId": "7df49688-bd0d-4416-b90a-ccfe6e5bfd68"
      },
      "execution_count": 79,
      "outputs": [
        {
          "output_type": "stream",
          "name": "stderr",
          "text": [
            "<ipython-input-53-4044329a6d3f>:148: MatplotlibDeprecationWarning: The get_cmap function was deprecated in Matplotlib 3.7 and will be removed two minor releases later. Use ``matplotlib.colormaps[name]`` or ``matplotlib.colormaps.get_cmap(obj)`` instead.\n",
            "  colour_map = plt.cm.get_cmap('cool', len(bbox_frames))\n"
          ]
        },
        {
          "output_type": "display_data",
          "data": {
            "text/plain": [
              "<Figure size 640x480 with 1 Axes>"
            ],
            "image/png": "[encoded data removed]"
          },
          "metadata": {}
        }
      ]
    },
    {
      "cell_type": "code",
      "source": [],
      "metadata": {
        "id": "6RibmvYOjIF_"
      },
      "execution_count": 79,
      "outputs": []
    }
  ]
}